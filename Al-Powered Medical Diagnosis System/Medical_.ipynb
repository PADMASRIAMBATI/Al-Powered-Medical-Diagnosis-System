{
  "cells": [
    {
      "cell_type": "code",
      "execution_count": 2,
      "metadata": {
        "id": "BAETX_QiGIl_"
      },
      "outputs": [],
      "source": [
        "import pandas as pd\n",
        "import numpy as np\n",
        "import seaborn as sns\n",
        "import matplotlib.pyplot as plt\n",
        "from sklearn.model_selection import train_test_split, GridSearchCV\n",
        "from sklearn.preprocessing import StandardScaler, LabelEncoder\n",
        "from sklearn.svm import SVC\n",
        "from sklearn.ensemble import RandomForestClassifier\n",
        "from sklearn.linear_model import LogisticRegression\n",
        "from sklearn.metrics import accuracy_score, classification_report, confusion_matrix\n"
      ]
    },
    {
      "cell_type": "code",
      "execution_count": 3,
      "metadata": {
        "id": "Bc-4Ftq8Im0O"
      },
      "outputs": [],
      "source": [
        "# Load datasets\n",
        "datasets = {\n",
        "    \"diabetes\": \"diabetes_data.csv\",\n",
        "    \"heart_disease\": \"heart_disease_data.csv\",\n",
        "    \"hypothyroid\": \"hypothyroid.csv\",\n",
        "    \"parkinson\": \"parkinson_data.csv\",\n",
        "    \"lung_cancer\": \"survey lung cancer.csv\"\n",
        "}"
      ]
    },
    {
      "cell_type": "code",
      "execution_count": 4,
      "metadata": {},
      "outputs": [
        {
          "name": "stdout",
          "output_type": "stream",
          "text": [
            "\n",
            "Loading dataset: diabetes\n",
            "\n",
            "Loading dataset: heart_disease\n",
            "\n",
            "Loading dataset: hypothyroid\n",
            "\n",
            "Loading dataset: parkinson\n",
            "\n",
            "Loading dataset: lung_cancer\n"
          ]
        }
      ],
      "source": [
        "for name, file in datasets.items():\n",
        "    print(f\"\\nLoading dataset: {name}\")\n",
        "    # Construct the full file path - 'file' already contains the relative path\n",
        "    file_path = file\n",
        "    df = pd.read_csv(file_path) # Read the CSV file using the constructed path."
      ]
    },
    {
      "cell_type": "code",
      "execution_count": 5,
      "metadata": {},
      "outputs": [
        {
          "name": "stdout",
          "output_type": "stream",
          "text": [
            "  GENDER  AGE  SMOKING  YELLOW_FINGERS  ANXIETY  PEER_PRESSURE  \\\n",
            "0      M   69        1               2        2              1   \n",
            "1      M   74        2               1        1              1   \n",
            "2      F   59        1               1        1              2   \n",
            "3      M   63        2               2        2              1   \n",
            "4      F   63        1               2        1              1   \n",
            "\n",
            "   CHRONIC DISEASE  FATIGUE   ALLERGY   WHEEZING  ALCOHOL CONSUMING  COUGHING  \\\n",
            "0                1         2         1         2                  2         2   \n",
            "1                2         2         2         1                  1         1   \n",
            "2                1         2         1         2                  1         2   \n",
            "3                1         1         1         1                  2         1   \n",
            "4                1         1         1         2                  1         2   \n",
            "\n",
            "   SHORTNESS OF BREATH  SWALLOWING DIFFICULTY  CHEST PAIN LUNG_CANCER  \n",
            "0                    2                      2           2         YES  \n",
            "1                    2                      2           2         YES  \n",
            "2                    2                      1           2          NO  \n",
            "3                    1                      2           2          NO  \n",
            "4                    2                      1           1          NO  \n"
          ]
        }
      ],
      "source": [
        "print(df.head())"
      ]
    },
    {
      "cell_type": "code",
      "execution_count": 6,
      "metadata": {},
      "outputs": [
        {
          "name": "stdout",
          "output_type": "stream",
          "text": [
            "<class 'pandas.core.frame.DataFrame'>\n",
            "RangeIndex: 309 entries, 0 to 308\n",
            "Data columns (total 16 columns):\n",
            " #   Column                 Non-Null Count  Dtype \n",
            "---  ------                 --------------  ----- \n",
            " 0   GENDER                 309 non-null    object\n",
            " 1   AGE                    309 non-null    int64 \n",
            " 2   SMOKING                309 non-null    int64 \n",
            " 3   YELLOW_FINGERS         309 non-null    int64 \n",
            " 4   ANXIETY                309 non-null    int64 \n",
            " 5   PEER_PRESSURE          309 non-null    int64 \n",
            " 6   CHRONIC DISEASE        309 non-null    int64 \n",
            " 7   FATIGUE                309 non-null    int64 \n",
            " 8   ALLERGY                309 non-null    int64 \n",
            " 9   WHEEZING               309 non-null    int64 \n",
            " 10  ALCOHOL CONSUMING      309 non-null    int64 \n",
            " 11  COUGHING               309 non-null    int64 \n",
            " 12  SHORTNESS OF BREATH    309 non-null    int64 \n",
            " 13  SWALLOWING DIFFICULTY  309 non-null    int64 \n",
            " 14  CHEST PAIN             309 non-null    int64 \n",
            " 15  LUNG_CANCER            309 non-null    object\n",
            "dtypes: int64(14), object(2)\n",
            "memory usage: 38.8+ KB\n",
            "None\n"
          ]
        }
      ],
      "source": [
        "print(df.info())"
      ]
    },
    {
      "cell_type": "code",
      "execution_count": 7,
      "metadata": {
        "colab": {
          "base_uri": "https://localhost:8080/"
        },
        "id": "dXB0uuF4LSb0",
        "outputId": "f81561c4-5cb0-4b15-d5c0-b4643778280b"
      },
      "outputs": [
        {
          "name": "stdout",
          "output_type": "stream",
          "text": [
            "\n",
            "Loading dataset: diabetes\n",
            "\n",
            "Loading dataset: heart_disease\n",
            "\n",
            "Loading dataset: hypothyroid\n",
            "\n",
            "Loading dataset: parkinson\n",
            "\n",
            "Loading dataset: lung_cancer\n"
          ]
        }
      ],
      "source": [
        "# Encoding categorical variables\n",
        "label_encoders = {}\n",
        "for name, file in datasets.items():\n",
        "    print(f\"\\nLoading dataset: {name}\")\n",
        "    df = pd.read_csv(f\"{file}\") # Use 'file' instead of 'diabetes_data'\n"
      ]
    },
    {
      "cell_type": "code",
      "execution_count": 8,
      "metadata": {
        "colab": {
          "base_uri": "https://localhost:8080/"
        },
        "id": "jcFyn4Wr2JTn",
        "outputId": "114cbcac-0b07-4c21-e5be-8887afcdb7c1"
      },
      "outputs": [
        {
          "name": "stdout",
          "output_type": "stream",
          "text": [
            "  GENDER  AGE  SMOKING  YELLOW_FINGERS  ANXIETY  PEER_PRESSURE  \\\n",
            "0      M   69        1               2        2              1   \n",
            "1      M   74        2               1        1              1   \n",
            "2      F   59        1               1        1              2   \n",
            "3      M   63        2               2        2              1   \n",
            "4      F   63        1               2        1              1   \n",
            "\n",
            "   CHRONIC DISEASE  FATIGUE   ALLERGY   WHEEZING  ALCOHOL CONSUMING  COUGHING  \\\n",
            "0                1         2         1         2                  2         2   \n",
            "1                2         2         2         1                  1         1   \n",
            "2                1         2         1         2                  1         2   \n",
            "3                1         1         1         1                  2         1   \n",
            "4                1         1         1         2                  1         2   \n",
            "\n",
            "   SHORTNESS OF BREATH  SWALLOWING DIFFICULTY  CHEST PAIN LUNG_CANCER  \n",
            "0                    2                      2           2         YES  \n",
            "1                    2                      2           2         YES  \n",
            "2                    2                      1           2          NO  \n",
            "3                    1                      2           2          NO  \n",
            "4                    2                      1           1          NO  \n"
          ]
        }
      ],
      "source": [
        "print(df.head())"
      ]
    },
    {
      "cell_type": "code",
      "execution_count": 9,
      "metadata": {
        "colab": {
          "base_uri": "https://localhost:8080/"
        },
        "id": "X3m2gL-72MZ3",
        "outputId": "4c7b781c-a31d-46a2-f329-a8d6a1554dd9"
      },
      "outputs": [
        {
          "name": "stdout",
          "output_type": "stream",
          "text": [
            "<class 'pandas.core.frame.DataFrame'>\n",
            "RangeIndex: 309 entries, 0 to 308\n",
            "Data columns (total 16 columns):\n",
            " #   Column                 Non-Null Count  Dtype \n",
            "---  ------                 --------------  ----- \n",
            " 0   GENDER                 309 non-null    object\n",
            " 1   AGE                    309 non-null    int64 \n",
            " 2   SMOKING                309 non-null    int64 \n",
            " 3   YELLOW_FINGERS         309 non-null    int64 \n",
            " 4   ANXIETY                309 non-null    int64 \n",
            " 5   PEER_PRESSURE          309 non-null    int64 \n",
            " 6   CHRONIC DISEASE        309 non-null    int64 \n",
            " 7   FATIGUE                309 non-null    int64 \n",
            " 8   ALLERGY                309 non-null    int64 \n",
            " 9   WHEEZING               309 non-null    int64 \n",
            " 10  ALCOHOL CONSUMING      309 non-null    int64 \n",
            " 11  COUGHING               309 non-null    int64 \n",
            " 12  SHORTNESS OF BREATH    309 non-null    int64 \n",
            " 13  SWALLOWING DIFFICULTY  309 non-null    int64 \n",
            " 14  CHEST PAIN             309 non-null    int64 \n",
            " 15  LUNG_CANCER            309 non-null    object\n",
            "dtypes: int64(14), object(2)\n",
            "memory usage: 38.8+ KB\n",
            "None\n"
          ]
        }
      ],
      "source": [
        "print(df.info())"
      ]
    },
    {
      "cell_type": "code",
      "execution_count": 10,
      "metadata": {
        "id": "bYY35oTx2Tcm"
      },
      "outputs": [],
      "source": [
        "for col in df.select_dtypes(include=['object']).columns:\n",
        "        le = LabelEncoder()\n",
        "        df[col] = le.fit_transform(df[col])\n",
        "        label_encoders[col] = le # Store the encoder for later use"
      ]
    },
    {
      "cell_type": "code",
      "execution_count": 11,
      "metadata": {
        "id": "yzdQqtmfLcJn"
      },
      "outputs": [],
      "source": [
        "# Splitting data # This line needs to be inside the loop to process each dataset separately\n",
        "X = df.iloc[:, :-1]\n",
        "y = df.iloc[:, -1]\n",
        "X_train, X_test, y_train, y_test = train_test_split(X, y, test_size=0.2, random_state=42) #And so does this one"
      ]
    },
    {
      "cell_type": "code",
      "execution_count": 12,
      "metadata": {
        "id": "pbRyWpdl0grT"
      },
      "outputs": [],
      "source": [
        "# Feature scaling\n",
        "scaler = StandardScaler()\n",
        "X_train = scaler.fit_transform(X_train)\n",
        "X_test = scaler.transform(X_test) # Moved inside the loop"
      ]
    },
    {
      "cell_type": "code",
      "execution_count": 13,
      "metadata": {
        "id": "z6Xfmstc0w-u"
      },
      "outputs": [],
      "source": [
        "# Model training & evaluation\n",
        "models = {\n",
        "    \"Logistic Regression\": LogisticRegression(),\n",
        "    \"SVM\": SVC(),\n",
        "    \"Random Forest\": RandomForestClassifier()\n",
        "}"
      ]
    },
    {
      "cell_type": "code",
      "execution_count": 14,
      "metadata": {
        "id": "-I41b3bw1AFN"
      },
      "outputs": [],
      "source": [
        "for model_name, model in models.items():\n",
        "        model.fit(X_train, y_train)\n",
        "        y_pred = model.predict(X_test)"
      ]
    },
    {
      "cell_type": "code",
      "execution_count": 15,
      "metadata": {
        "colab": {
          "base_uri": "https://localhost:8080/"
        },
        "id": "7f2-xJP41HlV",
        "outputId": "21c42e92-8cc5-4639-97b7-eec8b76e8f83"
      },
      "outputs": [
        {
          "name": "stdout",
          "output_type": "stream",
          "text": [
            "\n",
            "Random Forest Results for lung_cancer dataset:\n"
          ]
        }
      ],
      "source": [
        "print(f\"\\n{model_name} Results for {name} dataset:\")\n"
      ]
    },
    {
      "cell_type": "code",
      "execution_count": 16,
      "metadata": {
        "colab": {
          "base_uri": "https://localhost:8080/"
        },
        "id": "F0TqYu_c1Mbv",
        "outputId": "3da41b64-e989-4513-dc77-04e193e5ff40"
      },
      "outputs": [
        {
          "name": "stdout",
          "output_type": "stream",
          "text": [
            "Accuracy: 0.967741935483871\n"
          ]
        }
      ],
      "source": [
        "print(\"Accuracy:\", accuracy_score(y_test, y_pred))"
      ]
    },
    {
      "cell_type": "code",
      "execution_count": 17,
      "metadata": {
        "colab": {
          "base_uri": "https://localhost:8080/"
        },
        "id": "P0psIsdz1P9y",
        "outputId": "b3d1a220-8fcb-434e-a211-c1220a513340"
      },
      "outputs": [
        {
          "name": "stdout",
          "output_type": "stream",
          "text": [
            "Classification Report:\n",
            "               precision    recall  f1-score   support\n",
            "\n",
            "           0       0.50      0.50      0.50         2\n",
            "           1       0.98      0.98      0.98        60\n",
            "\n",
            "    accuracy                           0.97        62\n",
            "   macro avg       0.74      0.74      0.74        62\n",
            "weighted avg       0.97      0.97      0.97        62\n",
            "\n"
          ]
        }
      ],
      "source": [
        "print(\"Classification Report:\\n\", classification_report(y_test, y_pred))"
      ]
    },
    {
      "cell_type": "code",
      "execution_count": 19,
      "metadata": {
        "colab": {
          "base_uri": "https://localhost:8080/"
        },
        "id": "tTDW8cY71UE-",
        "outputId": "61f397e0-a3b0-47aa-8a56-379ba2769798"
      },
      "outputs": [
        {
          "name": "stdout",
          "output_type": "stream",
          "text": [
            "Confusion Matrix:\n",
            " [[ 1  1]\n",
            " [ 1 59]]\n"
          ]
        }
      ],
      "source": [
        "print(\"Confusion Matrix:\\n\", confusion_matrix(y_test, y_pred))"
      ]
    }
  ],
  "metadata": {
    "colab": {
      "provenance": []
    },
    "kernelspec": {
      "display_name": "Python 3",
      "name": "python3"
    },
    "language_info": {
      "codemirror_mode": {
        "name": "ipython",
        "version": 3
      },
      "file_extension": ".py",
      "mimetype": "text/x-python",
      "name": "python",
      "nbconvert_exporter": "python",
      "pygments_lexer": "ipython3",
      "version": "3.12.4"
    }
  },
  "nbformat": 4,
  "nbformat_minor": 0
}
